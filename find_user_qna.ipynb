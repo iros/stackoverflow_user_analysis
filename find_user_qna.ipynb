{
 "metadata": {
  "name": "",
  "signature": "sha256:7cea3141ebe0037c860e70e40764949b721ed80ed1c54bb558fca252701188a5"
 },
 "nbformat": 3,
 "nbformat_minor": 0,
 "worksheets": [
  {
   "cells": [
    {
     "cell_type": "code",
     "collapsed": false,
     "input": [
      "import os, glob\n",
      "import xml.etree.ElementTree as ET\n",
      "import csv"
     ],
     "language": "python",
     "metadata": {},
     "outputs": [],
     "prompt_number": 2
    },
    {
     "cell_type": "code",
     "collapsed": false,
     "input": [
      "userids = []\n",
      "questions = {}\n",
      "answers = {}\n",
      "accepted_answers = {}\n",
      "accepted_answers_flag = {}"
     ],
     "language": "python",
     "metadata": {},
     "outputs": [],
     "prompt_number": 19
    },
    {
     "cell_type": "code",
     "collapsed": false,
     "input": [
      "def processQuestions( f ):\n",
      "    tree = ET.parse(f)\n",
      "    posts = tree.getroot().getchildren()\n",
      "    \n",
      "    for post in posts:\n",
      "        user = post.get('OwnerUserId')\n",
      "        key = str(user)\n",
      "        userids.append(key)\n",
      "        \n",
      "        if (key in questions):\n",
      "            questions[key] = questions[key] + 1\n",
      "        else:\n",
      "            questions[key] = 1\n",
      "            \n",
      "        # mark answer as accepted.\n",
      "        answer = post.get('AcceptedAnswerId')\n",
      "        accepted_answers_flag[answer] = 1\n",
      "\n",
      "def processAnswers( f ):\n",
      "    tree = ET.parse(f)\n",
      "    posts = tree.getroot().getchildren()\n",
      "    \n",
      "    for post in posts:\n",
      "        user = post.get('OwnerUserId')\n",
      "        key = str(user)\n",
      "        userids.append(key)\n",
      "        \n",
      "        postId = post.get('Id')\n",
      "        \n",
      "        if postId in accepted_answers_flag:\n",
      "            if key in accepted_answers:\n",
      "                accepted_answers[key] = accepted_answers[key] + 1\n",
      "            else:\n",
      "                accepted_answers[key] = 1\n",
      "        else:\n",
      "            if key in answers:\n",
      "                answers[key] = answers[key] + 1\n",
      "            else:\n",
      "                answers[key] = 1\n",
      "        \n",
      "def writeCSV( filename ):\n",
      "    with open(filename, 'w') as f:  # Just use 'w' mode in 3.x\n",
      "        csfile = csv.writer(f, delimiter=',')\n",
      "        csfile.writerow([\"id\", \"question_count\", \"answer_count\", \"accepted_answer_count\"])\n",
      "        for userid in set(userids):\n",
      "            # build tuple\n",
      "            tuple = [userid]\n",
      "            if userid in questions:\n",
      "                tuple.append(questions[userid])\n",
      "            else:\n",
      "                tuple.append(0)\n",
      "            \n",
      "            if userid in answers:\n",
      "                tuple.append(answers[userid])\n",
      "            else:\n",
      "                tuple.append(0)\n",
      "                \n",
      "            if userid in accepted_answers:\n",
      "                tuple.append(accepted_answers[userid])\n",
      "            else:\n",
      "                tuple.append(0)\n",
      "                \n",
      "            csfile.writerow(tuple)"
     ],
     "language": "python",
     "metadata": {},
     "outputs": [],
     "prompt_number": 20
    },
    {
     "cell_type": "code",
     "collapsed": false,
     "input": [
      "for f in glob.glob(\"stackexchange/splitposts/data/*_questions\"):\n",
      "    processQuestions(f)\n",
      "    print \"Processed \" + f"
     ],
     "language": "python",
     "metadata": {},
     "outputs": [
      {
       "output_type": "stream",
       "stream": "stdout",
       "text": [
        "Processed stackexchange/splitposts/data/_Posts_aa_questions\n",
        "Processed stackexchange/splitposts/data/_Posts_ab_questions"
       ]
      },
      {
       "output_type": "stream",
       "stream": "stdout",
       "text": [
        "\n",
        "Processed stackexchange/splitposts/data/_Posts_ac_questions"
       ]
      },
      {
       "output_type": "stream",
       "stream": "stdout",
       "text": [
        "\n",
        "Processed stackexchange/splitposts/data/_Posts_ad_questions"
       ]
      },
      {
       "output_type": "stream",
       "stream": "stdout",
       "text": [
        "\n",
        "Processed stackexchange/splitposts/data/_Posts_ae_questions"
       ]
      },
      {
       "output_type": "stream",
       "stream": "stdout",
       "text": [
        "\n",
        "Processed stackexchange/splitposts/data/_Posts_af_questions"
       ]
      },
      {
       "output_type": "stream",
       "stream": "stdout",
       "text": [
        "\n",
        "Processed stackexchange/splitposts/data/_Posts_ag_questions"
       ]
      },
      {
       "output_type": "stream",
       "stream": "stdout",
       "text": [
        "\n",
        "Processed stackexchange/splitposts/data/_Posts_ah_questions"
       ]
      },
      {
       "output_type": "stream",
       "stream": "stdout",
       "text": [
        "\n",
        "Processed stackexchange/splitposts/data/_Posts_ai_questions"
       ]
      },
      {
       "output_type": "stream",
       "stream": "stdout",
       "text": [
        "\n",
        "Processed stackexchange/splitposts/data/_Posts_aj_questions"
       ]
      },
      {
       "output_type": "stream",
       "stream": "stdout",
       "text": [
        "\n",
        "Processed stackexchange/splitposts/data/_Posts_ak_questions"
       ]
      },
      {
       "output_type": "stream",
       "stream": "stdout",
       "text": [
        "\n",
        "Processed stackexchange/splitposts/data/_Posts_al_questions"
       ]
      },
      {
       "output_type": "stream",
       "stream": "stdout",
       "text": [
        "\n",
        "Processed stackexchange/splitposts/data/_Posts_am_questions"
       ]
      },
      {
       "output_type": "stream",
       "stream": "stdout",
       "text": [
        "\n",
        "Processed stackexchange/splitposts/data/_Posts_an_questions"
       ]
      },
      {
       "output_type": "stream",
       "stream": "stdout",
       "text": [
        "\n",
        "Processed stackexchange/splitposts/data/_Posts_ao_questions"
       ]
      },
      {
       "output_type": "stream",
       "stream": "stdout",
       "text": [
        "\n",
        "Processed stackexchange/splitposts/data/_Posts_ap_questions"
       ]
      },
      {
       "output_type": "stream",
       "stream": "stdout",
       "text": [
        "\n",
        "Processed stackexchange/splitposts/data/_Posts_aq_questions"
       ]
      },
      {
       "output_type": "stream",
       "stream": "stdout",
       "text": [
        "\n",
        "Processed stackexchange/splitposts/data/_Posts_ar_questions"
       ]
      },
      {
       "output_type": "stream",
       "stream": "stdout",
       "text": [
        "\n",
        "Processed stackexchange/splitposts/data/_Posts_as_questions"
       ]
      },
      {
       "output_type": "stream",
       "stream": "stdout",
       "text": [
        "\n",
        "Processed stackexchange/splitposts/data/_Posts_at_questions"
       ]
      },
      {
       "output_type": "stream",
       "stream": "stdout",
       "text": [
        "\n",
        "Processed stackexchange/splitposts/data/_Posts_au_questions"
       ]
      },
      {
       "output_type": "stream",
       "stream": "stdout",
       "text": [
        "\n",
        "Processed stackexchange/splitposts/data/_Posts_av_questions"
       ]
      },
      {
       "output_type": "stream",
       "stream": "stdout",
       "text": [
        "\n",
        "Processed stackexchange/splitposts/data/_Posts_aw_questions"
       ]
      },
      {
       "output_type": "stream",
       "stream": "stdout",
       "text": [
        "\n",
        "Processed stackexchange/splitposts/data/_Posts_ax_questions"
       ]
      },
      {
       "output_type": "stream",
       "stream": "stdout",
       "text": [
        "\n",
        "Processed stackexchange/splitposts/data/_Posts_ay_questions"
       ]
      },
      {
       "output_type": "stream",
       "stream": "stdout",
       "text": [
        "\n",
        "Processed stackexchange/splitposts/data/_Posts_az_questions"
       ]
      },
      {
       "output_type": "stream",
       "stream": "stdout",
       "text": [
        "\n",
        "Processed stackexchange/splitposts/data/_Posts_ba_questions\n"
       ]
      }
     ],
     "prompt_number": 21
    },
    {
     "cell_type": "code",
     "collapsed": false,
     "input": [
      "for f in glob.glob(\"stackexchange/splitposts/data/*_answers\"):\n",
      "    processAnswers(f)\n",
      "    print \"Processed \" + f"
     ],
     "language": "python",
     "metadata": {},
     "outputs": [
      {
       "output_type": "stream",
       "stream": "stdout",
       "text": [
        "Processed stackexchange/splitposts/data/_Posts_aa_answers\n",
        "Processed stackexchange/splitposts/data/_Posts_ab_answers"
       ]
      },
      {
       "output_type": "stream",
       "stream": "stdout",
       "text": [
        "\n",
        "Processed stackexchange/splitposts/data/_Posts_ac_answers"
       ]
      },
      {
       "output_type": "stream",
       "stream": "stdout",
       "text": [
        "\n",
        "Processed stackexchange/splitposts/data/_Posts_ad_answers"
       ]
      }
     ]
    },
    {
     "cell_type": "code",
     "collapsed": false,
     "input": [
      "writeCSV( \"userMetadata.csv\" )\n",
      "print \"DONE\""
     ],
     "language": "python",
     "metadata": {},
     "outputs": [
      {
       "output_type": "stream",
       "stream": "stdout",
       "text": [
        "DONE\n"
       ]
      }
     ],
     "prompt_number": 14
    },
    {
     "cell_type": "code",
     "collapsed": false,
     "input": [],
     "language": "python",
     "metadata": {},
     "outputs": []
    }
   ],
   "metadata": {}
  }
 ]
}